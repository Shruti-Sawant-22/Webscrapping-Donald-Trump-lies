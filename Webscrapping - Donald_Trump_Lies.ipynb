{
 "cells": [
  {
   "cell_type": "markdown",
   "metadata": {},
   "source": [
    "# **About the Data** \n",
    "On July 21, 2017, the New York Times updated an opinion article called Trump's Lies, detailing every public lie the President has told since taking office. Because this is a newspaper, the information was (of course) published as a block of text. This is a great format for human consumption, but it can't easily be understood by a computer. In this webscraping project i will extract the President's lies from the New York Times article and store them in a structured dataset.\n"
   ]
  },
  {
   "cell_type": "markdown",
   "metadata": {},
   "source": [
    "# What is web scraping?\n",
    "It's the process of extracting information from a web page by taking advantage of patterns in the web page's underlying code. Let's start looking for these patterns!"
   ]
  },
  {
   "cell_type": "markdown",
   "metadata": {},
   "source": [
    "# Reading the web page into Python"
   ]
  },
  {
   "cell_type": "markdown",
   "metadata": {},
   "source": [
    "#### The first thing we need to do is to read the HTML for this article into Python, which we'll do using the requests library. (If you don't have it, you can pip install requests from the command line.)"
   ]
  },
  {
   "cell_type": "code",
   "execution_count": 1,
   "metadata": {},
   "outputs": [],
   "source": [
    "import requests\n",
    "\n",
    "r = requests.get('https://www.nytimes.com/interactive/2017/06/23/opinion/trumps-lies.html')"
   ]
  },
  {
   "cell_type": "code",
   "execution_count": 2,
   "metadata": {},
   "outputs": [
    {
     "data": {
      "text/plain": [
       "<Response [200]>"
      ]
     },
     "execution_count": 2,
     "metadata": {},
     "output_type": "execute_result"
    }
   ],
   "source": [
    "r"
   ]
  },
  {
   "cell_type": "markdown",
   "metadata": {},
   "source": [
    "*The code above fetches our web page from the URL, and stores the result in a \"response\" object called r.* \n",
    "\n",
    "*That response object has a text attribute, which contains the same HTML code we saw when viewing the source from our web browser.*"
   ]
  },
  {
   "cell_type": "code",
   "execution_count": 3,
   "metadata": {},
   "outputs": [
    {
     "name": "stdout",
     "output_type": "stream",
     "text": [
      "<!DOCTYPE html>\n",
      "<!--[if (gt IE 9)|!(IE)]> <!--><html lang=\"en\" class=\"no-js page-interactive section-opinion page-theme-standard tone-opinion page-interactive-default limit-small layout-xlarge app-interactive\" itemid=\"https://www.nytimes.com/interactive/2017/06/23/opinion/trumps-lies.html\" itemtype=\"http://schema.org/NewsArticle\" itemscope xmlns:og=\"http://opengraphprotocol.org/schema/\"><!--<![endif]-->\n",
      "<!--[if IE 9]> <html lang=\"en\" class=\"no-js ie9 lt-ie10 page-interactive section-opinion page\n"
     ]
    }
   ],
   "source": [
    "# print the first 500 characters of the HTML\n",
    "print(r.text[0:500])"
   ]
  },
  {
   "cell_type": "markdown",
   "metadata": {},
   "source": [
    "## Parsing the HTML using Beautiful Soup\n",
    "\n",
    "\n",
    "*We're going to parse the HTML using the Beautiful Soup 4 library, which is a popular Python library for web scraping. (If you don't have it, you can pip install beautifulsoup4 from the command line.)*"
   ]
  },
  {
   "cell_type": "code",
   "execution_count": 4,
   "metadata": {},
   "outputs": [],
   "source": [
    "from bs4 import BeautifulSoup\n",
    "soup= BeautifulSoup(r.text,'html.parser')"
   ]
  },
  {
   "cell_type": "markdown",
   "metadata": {},
   "source": [
    "The code above parses the HTML (stored in r.text) into a special object called soup that the Beautiful Soup library understands.\n",
    "\n",
    "In other words, Beautiful Soup is reading the HTML and making sense of its structure.\n",
    "\n",
    "(Note that html.parser is the parser included with the Python standard library, though other parsers can be used by Beautiful Soup. See differences between parsers to learn more\n",
    "\n",
    "You might have noticed that each record has the following format:\n",
    "\n",
    "**There's an outer tag, and then nested within it is a tag plus another tag, which itself contains an tag. All of these tags affect the formatting of the text. And because the New York Times wants each record to appear in a consistent way in your web browser, we know that each record will be tagged in a consistent way in the HTML. This is the pattern that allows us to build our dataset!**\n",
    "\n",
    "Let's ask Beautiful Soup to find all of the records:"
   ]
  },
  {
   "cell_type": "code",
   "execution_count": 5,
   "metadata": {},
   "outputs": [],
   "source": [
    "results = soup.find_all('span',attrs={'class':'short-desc'})"
   ]
  },
  {
   "cell_type": "markdown",
   "metadata": {},
   "source": [
    "This code searches the soup object for all tags with the attribute class=\"short-desc\". \n",
    "\n",
    "It returns a special Beautiful Soup object (called a \"ResultSet\") containing the search results.\n",
    "\n",
    "results acts like a Python list, so we can check its length:"
   ]
  },
  {
   "cell_type": "code",
   "execution_count": 6,
   "metadata": {},
   "outputs": [
    {
     "data": {
      "text/plain": [
       "180"
      ]
     },
     "execution_count": 6,
     "metadata": {},
     "output_type": "execute_result"
    }
   ],
   "source": [
    "len(results)"
   ]
  },
  {
   "cell_type": "markdown",
   "metadata": {},
   "source": [
    "There are 180 results, which seems reasonable given the length of the article. (If this number did not seem reasonable, we would examine the HTML further to determine if our assumptions about the patterns in the HTML were incorrect.)\n",
    "\n",
    "We can also slice the object like a list, in order to examine the first three results:"
   ]
  },
  {
   "cell_type": "code",
   "execution_count": 7,
   "metadata": {},
   "outputs": [
    {
     "data": {
      "text/plain": [
       "<span class=\"short-desc\"><strong>Jan. 21 </strong>“I wasn't a fan of Iraq. I didn't want to go into Iraq.” <span class=\"short-truth\"><a href=\"https://www.buzzfeed.com/andrewkaczynski/in-2002-donald-trump-said-he-supported-invading-iraq-on-the\" target=\"_blank\">(He was for an invasion before he was against it.)</a></span></span>"
      ]
     },
     "execution_count": 7,
     "metadata": {},
     "output_type": "execute_result"
    }
   ],
   "source": [
    "results[0]"
   ]
  },
  {
   "cell_type": "code",
   "execution_count": 8,
   "metadata": {},
   "outputs": [
    {
     "data": {
      "text/plain": [
       "<span class=\"short-desc\"><strong>Nov. 11 </strong>“I'd rather have him  – you know, work with him on the Ukraine than standing and arguing about whether or not  – because that whole thing was set up by the Democrats.” <span class=\"short-truth\"><a href=\"https://www.nytimes.com/interactive/2017/12/10/us/politics/trump-and-russia.html\" target=\"_blank\">(There is no evidence that Democrats \"set up\" Russian interference in the election.)</a></span></span>"
      ]
     },
     "execution_count": 8,
     "metadata": {},
     "output_type": "execute_result"
    }
   ],
   "source": [
    "results[-1]"
   ]
  },
  {
   "cell_type": "markdown",
   "metadata": {},
   "source": [
    "**Looks good!**\n",
    "\n",
    "We have now collected all 180 of the records, but we still need to separate each record into its four components (date, lie, explanation, and URL) in order to give the dataset some structure."
   ]
  },
  {
   "cell_type": "markdown",
   "metadata": {},
   "source": [
    "# 1. Extracting the date\n",
    "\n",
    "\n",
    "Web scraping is often an iterative process, in which you experiment with your code until it works exactly as you desire. To simplify the experimentation, we'll start by only working with the first record in the results object, and then later on we'll modify our code to use a loop:"
   ]
  },
  {
   "cell_type": "code",
   "execution_count": 9,
   "metadata": {},
   "outputs": [
    {
     "data": {
      "text/plain": [
       "<span class=\"short-desc\"><strong>Jan. 21 </strong>“I wasn't a fan of Iraq. I didn't want to go into Iraq.” <span class=\"short-truth\"><a href=\"https://www.buzzfeed.com/andrewkaczynski/in-2002-donald-trump-said-he-supported-invading-iraq-on-the\" target=\"_blank\">(He was for an invasion before he was against it.)</a></span></span>"
      ]
     },
     "execution_count": 9,
     "metadata": {},
     "output_type": "execute_result"
    }
   ],
   "source": [
    "first_result = results[0]\n",
    "first_result"
   ]
  },
  {
   "cell_type": "markdown",
   "metadata": {},
   "source": [
    "Although first_result may look like a Python string, you'll notice that there are no quote marks around it. Instead, it's another special Beautiful Soup object (called a \"Tag\") that has specific methods and attributes.\n",
    "\n",
    "In order to locate the date, we can use its find() method to find a single tag that matches a specific pattern, in contrast to the find_all() method we used above to find all tags that match a pattern:"
   ]
  },
  {
   "cell_type": "code",
   "execution_count": 10,
   "metadata": {},
   "outputs": [
    {
     "data": {
      "text/plain": [
       "<strong>Jan. 21 </strong>"
      ]
     },
     "execution_count": 10,
     "metadata": {},
     "output_type": "execute_result"
    }
   ],
   "source": [
    "first_result.find('strong')"
   ]
  },
  {
   "cell_type": "markdown",
   "metadata": {},
   "source": [
    "**This code searches first_result for the first instance of a tag, and again returns a Beautiful Soup \"Tag\" object (not a string).**\n",
    "\n",
    "Since we want to extract the text between the opening and closing tags, we can access its text attribute, which does in fact return a regular Python string:"
   ]
  },
  {
   "cell_type": "code",
   "execution_count": 11,
   "metadata": {},
   "outputs": [
    {
     "data": {
      "text/plain": [
       "'Jan. 21\\xa0'"
      ]
     },
     "execution_count": 11,
     "metadata": {},
     "output_type": "execute_result"
    }
   ],
   "source": [
    "first_result.find('strong').text"
   ]
  },
  {
   "cell_type": "markdown",
   "metadata": {},
   "source": [
    "What is \\xa0? You don't actually need to know this, but it's called an \"escape sequence\" that represents the   character we saw earlier in the HTML source.\n",
    "\n",
    "However, you do need to know that an escape sequence represents a single character within a string. Let's slice it off from the end of the string:"
   ]
  },
  {
   "cell_type": "code",
   "execution_count": 12,
   "metadata": {},
   "outputs": [
    {
     "data": {
      "text/plain": [
       "'Jan. 21'"
      ]
     },
     "execution_count": 12,
     "metadata": {},
     "output_type": "execute_result"
    }
   ],
   "source": [
    "first_result.find('strong').text[:-1]"
   ]
  },
  {
   "cell_type": "markdown",
   "metadata": {},
   "source": [
    "# 2. Extracting the lie\n",
    "\n",
    "Let's take another look at first_result:"
   ]
  },
  {
   "cell_type": "code",
   "execution_count": 13,
   "metadata": {},
   "outputs": [
    {
     "data": {
      "text/plain": [
       "<span class=\"short-desc\"><strong>Jan. 21 </strong>“I wasn't a fan of Iraq. I didn't want to go into Iraq.” <span class=\"short-truth\"><a href=\"https://www.buzzfeed.com/andrewkaczynski/in-2002-donald-trump-said-he-supported-invading-iraq-on-the\" target=\"_blank\">(He was for an invasion before he was against it.)</a></span></span>"
      ]
     },
     "execution_count": 13,
     "metadata": {},
     "output_type": "execute_result"
    }
   ],
   "source": [
    "first_result"
   ]
  },
  {
   "cell_type": "code",
   "execution_count": 14,
   "metadata": {},
   "outputs": [
    {
     "data": {
      "text/plain": [
       "[<strong>Jan. 21 </strong>,\n",
       " \"“I wasn't a fan of Iraq. I didn't want to go into Iraq.” \",\n",
       " <span class=\"short-truth\"><a href=\"https://www.buzzfeed.com/andrewkaczynski/in-2002-donald-trump-said-he-supported-invading-iraq-on-the\" target=\"_blank\">(He was for an invasion before he was against it.)</a></span>]"
      ]
     },
     "execution_count": 14,
     "metadata": {},
     "output_type": "execute_result"
    }
   ],
   "source": [
    "first_result.contents"
   ]
  },
  {
   "cell_type": "markdown",
   "metadata": {},
   "source": [
    "The first_result \"Tag\" has a contents attribute, which returns a Python list containing its \"children\". What are children? They are the Tags and strings that are nested within a Tag.\n",
    "\n",
    "We can slice this list to extract the second element:"
   ]
  },
  {
   "cell_type": "code",
   "execution_count": 15,
   "metadata": {},
   "outputs": [
    {
     "data": {
      "text/plain": [
       "\"“I wasn't a fan of Iraq. I didn't want to go into Iraq.” \""
      ]
     },
     "execution_count": 15,
     "metadata": {},
     "output_type": "execute_result"
    }
   ],
   "source": [
    "first_result.contents[1]"
   ]
  },
  {
   "cell_type": "code",
   "execution_count": 16,
   "metadata": {},
   "outputs": [
    {
     "data": {
      "text/plain": [
       "\"I wasn't a fan of Iraq. I didn't want to go into Iraq.\""
      ]
     },
     "execution_count": 16,
     "metadata": {},
     "output_type": "execute_result"
    }
   ],
   "source": [
    "first_result.contents[1][1:-2]"
   ]
  },
  {
   "cell_type": "markdown",
   "metadata": {},
   "source": [
    "# 3. Extracting the explanation\n",
    "\n",
    "Based upon what you've seen already, you might have figured out that we have at least two options for how we extract the third component of the record, which is the writer's explanation of why the President's statement was a lie.\n",
    "\n",
    "The first option is to slice the contents attribute, like we did when extracting the lie:"
   ]
  },
  {
   "cell_type": "code",
   "execution_count": 17,
   "metadata": {},
   "outputs": [
    {
     "data": {
      "text/plain": [
       "<span class=\"short-desc\"><strong>Jan. 21 </strong>“I wasn't a fan of Iraq. I didn't want to go into Iraq.” <span class=\"short-truth\"><a href=\"https://www.buzzfeed.com/andrewkaczynski/in-2002-donald-trump-said-he-supported-invading-iraq-on-the\" target=\"_blank\">(He was for an invasion before he was against it.)</a></span></span>"
      ]
     },
     "execution_count": 17,
     "metadata": {},
     "output_type": "execute_result"
    }
   ],
   "source": [
    "first_result"
   ]
  },
  {
   "cell_type": "code",
   "execution_count": 18,
   "metadata": {},
   "outputs": [
    {
     "data": {
      "text/plain": [
       "<span class=\"short-truth\"><a href=\"https://www.buzzfeed.com/andrewkaczynski/in-2002-donald-trump-said-he-supported-invading-iraq-on-the\" target=\"_blank\">(He was for an invasion before he was against it.)</a></span>"
      ]
     },
     "execution_count": 18,
     "metadata": {},
     "output_type": "execute_result"
    }
   ],
   "source": [
    "first_result.contents[2]"
   ]
  },
  {
   "cell_type": "markdown",
   "metadata": {},
   "source": [
    "The second option is to search for the surrounding tag, like we did when extracting the date:"
   ]
  },
  {
   "cell_type": "code",
   "execution_count": 19,
   "metadata": {},
   "outputs": [
    {
     "data": {
      "text/plain": [
       "<a href=\"https://www.buzzfeed.com/andrewkaczynski/in-2002-donald-trump-said-he-supported-invading-iraq-on-the\" target=\"_blank\">(He was for an invasion before he was against it.)</a>"
      ]
     },
     "execution_count": 19,
     "metadata": {},
     "output_type": "execute_result"
    }
   ],
   "source": [
    "first_result.find('a')"
   ]
  },
  {
   "cell_type": "markdown",
   "metadata": {},
   "source": [
    "Either way, we can access the text attribute and then slice off the opening and closing parentheses:"
   ]
  },
  {
   "cell_type": "code",
   "execution_count": 21,
   "metadata": {},
   "outputs": [
    {
     "data": {
      "text/plain": [
       "'(He was for an invasion before he was against it.)'"
      ]
     },
     "execution_count": 21,
     "metadata": {},
     "output_type": "execute_result"
    }
   ],
   "source": [
    "first_result.find('a').text"
   ]
  },
  {
   "cell_type": "code",
   "execution_count": 22,
   "metadata": {},
   "outputs": [
    {
     "data": {
      "text/plain": [
       "'He was for an invasion before he was against it.'"
      ]
     },
     "execution_count": 22,
     "metadata": {},
     "output_type": "execute_result"
    }
   ],
   "source": [
    "first_result.find('a').text[1:-1]"
   ]
  },
  {
   "cell_type": "markdown",
   "metadata": {},
   "source": [
    "# 4. Extracting the URL\n",
    "\n",
    "Finally, we want to extract the URL of the article that substantiates the writer's claim that the President was lying.\n",
    "\n",
    "Let's examine the tag within first_result:"
   ]
  },
  {
   "cell_type": "code",
   "execution_count": 24,
   "metadata": {},
   "outputs": [
    {
     "data": {
      "text/plain": [
       "<a href=\"https://www.buzzfeed.com/andrewkaczynski/in-2002-donald-trump-said-he-supported-invading-iraq-on-the\" target=\"_blank\">(He was for an invasion before he was against it.)</a>"
      ]
     },
     "execution_count": 24,
     "metadata": {},
     "output_type": "execute_result"
    }
   ],
   "source": [
    "first_result.find('a')"
   ]
  },
  {
   "cell_type": "markdown",
   "metadata": {},
   "source": [
    "So far, I have been extracting text that is between tags. In this case, the text we want to extract is located within the tag itself. Specifically, we want to access the value of the href attribute within the tag.\n",
    "\n",
    "Beautiful Soup treats tag attributes and their values like key-value pairs in a dictionary: you put the attribute name in brackets (like a dictionary key), and you get back the attribute's value:"
   ]
  },
  {
   "cell_type": "code",
   "execution_count": 25,
   "metadata": {},
   "outputs": [
    {
     "data": {
      "text/plain": [
       "'https://www.buzzfeed.com/andrewkaczynski/in-2002-donald-trump-said-he-supported-invading-iraq-on-the'"
      ]
     },
     "execution_count": 25,
     "metadata": {},
     "output_type": "execute_result"
    }
   ],
   "source": [
    "first_result.find('a')['href']"
   ]
  },
  {
   "cell_type": "code",
   "execution_count": 26,
   "metadata": {},
   "outputs": [
    {
     "name": "stdout",
     "output_type": "stream",
     "text": [
      "Jan. 25\n",
      "Now, the audience was the biggest ever. But this crowd was massive. Look how far back it goes. This crowd was massive.\n",
      "Official aerial photos show Obama's 2009 inauguration was much more heavily attended.\n",
      "https://www.nytimes.com/2017/01/21/us/politics/trump-white-house-briefing-inauguration-crowd-size.html\n"
     ]
    }
   ],
   "source": [
    "first_result = results[3]\n",
    "\n",
    "DATE = first_result.find('strong').text[:-1]\n",
    "LIE = first_result.contents[1][1:-2]\n",
    "EXPLANATION = first_result.find('a').text[1:-1]\n",
    "URL = first_result.find('a')['href']\n",
    "\n",
    "print(DATE)\n",
    "print(LIE)\n",
    "print(EXPLANATION)\n",
    "print(URL)"
   ]
  },
  {
   "cell_type": "code",
   "execution_count": 27,
   "metadata": {},
   "outputs": [],
   "source": [
    "records = []\n",
    "\n",
    "for i in range(len(results)):\n",
    "    \n",
    "    first_result = results[i]\n",
    "\n",
    "    DATE = first_result.find('strong').text[:-1]\n",
    "    LIE = first_result.contents[1][1:-2]\n",
    "    EXPLANATION = first_result.find('a').text[1:-1]\n",
    "    URL = first_result.find('a')['href']    \n",
    "    \n",
    "    records.append((DATE,LIE,EXPLANATION,URL))\n",
    "    "
   ]
  },
  {
   "cell_type": "code",
   "execution_count": 28,
   "metadata": {},
   "outputs": [
    {
     "data": {
      "text/plain": [
       "[('Jan. 21',\n",
       "  \"I wasn't a fan of Iraq. I didn't want to go into Iraq.\",\n",
       "  'He was for an invasion before he was against it.',\n",
       "  'https://www.buzzfeed.com/andrewkaczynski/in-2002-donald-trump-said-he-supported-invading-iraq-on-the'),\n",
       " ('Jan. 21',\n",
       "  'A reporter for Time magazine — and I have been on their cover 14 or 15 times. I think we have the all-time record in the history of Time magazine.',\n",
       "  'Trump was on the cover 11 times and Nixon appeared 55 times.',\n",
       "  'http://nation.time.com/2013/11/06/10-things-you-didnt-know-about-time/'),\n",
       " ('Jan. 23',\n",
       "  'Between 3 million and 5 million illegal votes caused me to lose the popular vote.',\n",
       "  \"There's no evidence of illegal voting.\",\n",
       "  'https://www.nytimes.com/2017/01/23/us/politics/donald-trump-congress-democrats.html'),\n",
       " ('Jan. 25',\n",
       "  'Now, the audience was the biggest ever. But this crowd was massive. Look how far back it goes. This crowd was massive.',\n",
       "  \"Official aerial photos show Obama's 2009 inauguration was much more heavily attended.\",\n",
       "  'https://www.nytimes.com/2017/01/21/us/politics/trump-white-house-briefing-inauguration-crowd-size.html'),\n",
       " ('Jan. 25',\n",
       "  'Take a look at the Pew reports (which show voter fraud.)',\n",
       "  'The report never mentioned voter fraud.',\n",
       "  'https://www.nytimes.com/2017/01/24/us/politics/unauthorized-immigrant-voting-trump-lie.html'),\n",
       " ('Jan. 25',\n",
       "  \"You had millions of people that now aren't insured anymore.\",\n",
       "  'The real number is less than 1 million, according to the Urban Institute.',\n",
       "  'https://www.nytimes.com/2017/03/13/us/politics/fact-check-trump-obamacare-health-care.html'),\n",
       " ('Jan. 25',\n",
       "  \"So, look, when President Obama was there two weeks ago making a speech, very nice speech. Two people were shot and killed during his speech. You can't have that.\",\n",
       "  'There were no gun homicide victims in Chicago that day.',\n",
       "  'https://www.dnainfo.com/chicago/2017-chicago-murders/timeline?mon=1'),\n",
       " ('Jan. 26',\n",
       "  \"We've taken in tens of thousands of people. We know nothing about them. They can say they vet them. They didn't vet them. They have no papers. How can you vet somebody when you don't know anything about them and you have no papers? How do you vet them? You can't.\",\n",
       "  'Vetting lasts up to two years.',\n",
       "  'https://www.nytimes.com/interactive/2017/01/29/us/refugee-vetting-process.html'),\n",
       " ('Jan. 26',\n",
       "  \"I cut off hundreds of millions of dollars off one particular plane, hundreds of millions of dollars in a short period of time. It wasn't like I spent, like, weeks, hours, less than hours, and many, many hundreds of millions of dollars. And the plane's going to be better.\",\n",
       "  'Most of the cuts were already planned.',\n",
       "  'https://www.washingtonpost.com/news/fact-checker/wp/2017/01/31/trumps-claim-taking-credit-for-cutting-600-million-from-the-f-35-program/'),\n",
       " ('Jan. 28',\n",
       "  'The coverage about me in the @nytimes and the @washingtonpost has been so false and angry that the Times actually apologized to its dwindling subscribers and readers.',\n",
       "  'It never apologized.',\n",
       "  'https://www.nytimes.com/2016/11/13/us/elections/to-our-readers-from-the-publisher-and-executive-editor.html'),\n",
       " ('Jan. 29',\n",
       "  'The Cuban-Americans, I got 84 percent of that vote.',\n",
       "  'There is no support for this.',\n",
       "  'http://www.pewresearch.org/fact-tank/2016/11/15/unlike-other-latinos-about-half-of-cuban-voters-in-florida-backed-trump/'),\n",
       " ('Jan. 30',\n",
       "  'Only 109 people out of 325,000 were detained and held for questioning. Big problems at airports were caused by Delta computer outage.',\n",
       "  'At least 746 people were detained and processed, and the Delta outage happened two days later.',\n",
       "  'http://markets.on.nytimes.com/research/stocks/news/press_release.asp?docTag=201701300400PR_NEWS_USPRX____CL99370&feedID=600&press_symbol=7311173'),\n",
       " ('Feb. 3',\n",
       "  'Professional anarchists, thugs and paid protesters are proving the point of the millions of people who voted to MAKE AMERICA GREAT AGAIN!',\n",
       "  'There is no evidence of paid protesters.',\n",
       "  'https://www.nytimes.com/2017/01/28/nyregion/jfk-protests-trump-refugee-ban.html'),\n",
       " ('Feb. 4',\n",
       "  'After being forced to apologize for its bad and inaccurate coverage of me after winning the election, the FAKE NEWS @nytimes is still lost!',\n",
       "  'It never apologized.',\n",
       "  'https://www.nytimes.com/2016/11/13/us/elections/to-our-readers-from-the-publisher-and-executive-editor.html'),\n",
       " ('Feb. 5',\n",
       "  'We had 109 people out of hundreds of thousands of travelers and all we did was vet those people very, very carefully.',\n",
       "  'About 60,000 people were affected.',\n",
       "  'http://www.politifact.com/truth-o-meter/statements/2017/feb/06/donald-trump/president-trump-says-109-people-were-affected-trav/'),\n",
       " ('Feb. 6',\n",
       "  'I have already saved more than $700 million when I got involved in the negotiation on the F-35.',\n",
       "  'Much of the price drop was projected before Trump took office.',\n",
       "  'https://www.washingtonpost.com/news/fact-checker/wp/2017/01/31/trumps-claim-taking-credit-for-cutting-600-million-from-the-f-35-program/'),\n",
       " ('Feb. 6',\n",
       "  \"It's gotten to a point where it is not even being reported. And in many cases, the very, very dishonest press doesn't want to report it.\",\n",
       "  'Terrorism has been reported on, often in detail.',\n",
       "  'https://www.nytimes.com/2017/02/07/us/politics/the-white-house-list-of-terror-attacks-underreported-by-media.html'),\n",
       " ('Feb. 6',\n",
       "  'The failing @nytimes was forced to apologize to its subscribers for the poor reporting it did on my election win. Now they are worse!',\n",
       "  \"It didn't apologize.\",\n",
       "  'https://www.nytimes.com/2016/11/13/us/elections/to-our-readers-from-the-publisher-and-executive-editor.html'),\n",
       " ('Feb. 6',\n",
       "  \"And the previous administration allowed it to happen because we shouldn't have been in Iraq, but we shouldn't have gotten out the way we got out. It created a vacuum, ISIS was formed.\",\n",
       "  'The group’s origins date to 2004.',\n",
       "  'https://www.nytimes.com/2015/11/19/world/middleeast/in-rise-of-isis-no-single-missed-key-but-many-strands-of-blame.html'),\n",
       " ('Feb. 7',\n",
       "  'And yet the murder rate in our country is the highest it’s been in 47 years, right? Did you know that? Forty-seven years.',\n",
       "  \"It was higher in the 1980s and '90s.\",\n",
       "  'http://www.politifact.com/truth-o-meter/statements/2017/feb/08/donald-trump/donald-trump-wrong-murder-rate-highest-47-years/'),\n",
       " ('Feb. 7',\n",
       "  'I saved more than $600 million. I got involved in negotiation on a fighter jet, the F-35.',\n",
       "  'The Defense Department projected this price drop before Trump took office.',\n",
       "  'https://www.washingtonpost.com/news/fact-checker/wp/2017/01/31/trumps-claim-taking-credit-for-cutting-600-million-from-the-f-35-program/'),\n",
       " ('Feb. 9',\n",
       "  'Chris Cuomo, in his interview with Sen. Blumenthal, never asked him about his long-term lie about his brave ‘service’ in Vietnam. FAKE NEWS!',\n",
       "  \"It was part of Cuomo's first question.\",\n",
       "  'http://transcripts.cnn.com/TRANSCRIPTS/1702/09/nday.05.html'),\n",
       " ('Feb. 9',\n",
       "  'Sen. Richard Blumenthal now misrepresents what Judge Gorsuch told him?',\n",
       "  'The Gorsuch comments were later corroborated.',\n",
       "  'https://www.washingtonpost.com/news/fact-checker/wp/2017/02/10/heres-what-trump-got-wrong-on-twitter-this-week-5/?utm_term=.6fbfc4abc6e0'),\n",
       " ('Feb. 10',\n",
       "  'I don’t know about it. I haven’t seen it. What report is that?',\n",
       "  \"Trump knew about Flynn's actions for weeks.\",\n",
       "  'http://www.factcheck.org/2017/02/trump-spins-flynn-facts/'),\n",
       " ('Feb. 12',\n",
       "  'Just leaving Florida. Big crowds of enthusiastic supporters lining the road that the FAKE NEWS media refuses to mention. Very dishonest!',\n",
       "  'The media did cover it.',\n",
       "  'http://www.palmbeachpost.com/news/national-govt--politics/trump-heads-back-protesters-supporters-gather/CQXPE9NRk807XKWiDwefWK/'),\n",
       " ('Feb. 16',\n",
       "  \"We got 306 because people came out and voted like they've never seen before so that's the way it goes. I guess it was the biggest Electoral College win since Ronald Reagan.\",\n",
       "  'George H.W. Bush, Bill Clinton and Barack Obama all won bigger margins in the Electoral College.',\n",
       "  'https://www.nytimes.com/2017/02/16/us/politics/trump-fact-check.html'),\n",
       " ('Feb. 16',\n",
       "  'That’s the other thing that was wrong with the travel ban. You had Delta with a massive problem with their computer system at the airports.',\n",
       "  \"Delta's problems happened two days later.\",\n",
       "  'https://www.washingtonpost.com/news/fact-checker/wp/2017/02/03/what-trump-got-wrong-on-twitter-this-week-4/'),\n",
       " ('Feb. 16',\n",
       "  'Walmart announced it will create 10,000 jobs in the United States just this year because of our various plans and initiatives.',\n",
       "  'The jobs are a result of its investment plans announced in Oct. 2016.',\n",
       "  'https://www.nytimes.com/interactive/2017/business/economy/trump-jobs.html'),\n",
       " ('Feb. 16',\n",
       "  'When WikiLeaks, which I had nothing to do with, comes out and happens to give, they’re not giving classified information.',\n",
       "  'Not always. They have released classified information in the past.',\n",
       "  'http://www.politifact.com/truth-o-meter/article/2017/feb/16/fact-checking-donald-trumps-press-conference/'),\n",
       " ('Feb. 16',\n",
       "  'We had a very smooth rollout of the travel ban. But we had a bad court. Got a bad decision.',\n",
       "  'The rollout was chaotic.',\n",
       "  'https://www.washingtonpost.com/news/fact-checker/wp/2017/02/16/fact-checking-president-trumps-news-conference/?utm_term=.517d64230dcf'),\n",
       " ('Feb. 16',\n",
       "  'They’re giving stuff — what was said at an office about Hillary cheating on the debates. Which, by the way, nobody mentions. Nobody mentions that Hillary received the questions to the debates.',\n",
       "  'It was widely covered.',\n",
       "  'http://www.politifact.com/truth-o-meter/article/2017/feb/16/fact-checking-donald-trumps-press-conference/'),\n",
       " ('Feb. 18',\n",
       "  'And there was no way to vet those people. There was no documentation. There was no nothing.',\n",
       "  'Refugees receive multiple background checks, taking up to two years.',\n",
       "  'https://www.nytimes.com/interactive/2017/01/29/us/refugee-vetting-process.html'),\n",
       " ('Feb. 18',\n",
       "  \"You look at what's happening in Germany, you look at what's happening last night in Sweden. Sweden, who would believe this?\",\n",
       "  'Trump implied there was a terror attack in Sweden, but there was no such attack.',\n",
       "  'https://www.nytimes.com/2017/02/19/world/europe/last-night-in-sweden-trumps-remark-baffles-a-nation.html?rref=collection%2Ftimestopic%2FSweden&action=click&contentCollection=world&region=stream&module=stream_unit&version=latest&contentPlacement=7&pgtype=collection'),\n",
       " ('Feb. 24',\n",
       "  'By the way, you folks are in here — this place is packed, there are lines that go back six blocks.',\n",
       "  'There was no evidence of long lines.',\n",
       "  'http://thehill.com/homenews/administration/320988-trump-falsely-claims-lines-go-back-6-blocks-for-cpac-speech'),\n",
       " ('Feb. 24',\n",
       "  'ICE came and endorsed me.',\n",
       "  'Only its union did.',\n",
       "  'http://www.politifact.com/truth-o-meter/statements/2016/oct/10/donald-trump/trump-says-ice-endorsed-him/'),\n",
       " ('Feb. 24',\n",
       "  'Obamacare covers very few people — and remember, deduct from the number all of the people that had great health care that they loved that was taken away from them — it was taken away from them.',\n",
       "  'Obamacare increased coverage by a net of about 20 million.',\n",
       "  'https://www.nytimes.com/2017/02/24/us/politics/fact-check-trump-blasts-fake-news-and-repeats-inaccurate-claims-at-cpac.html'),\n",
       " ('Feb. 27',\n",
       "  'Since Obamacare went into effect, nearly half of the insurers are stopped and have stopped from participating in the Obamacare exchanges.',\n",
       "  'Many fewer pulled out.',\n",
       "  'http://www.heritage.org/health-care-reform/report/the-2017-health-insurance-exchanges-major-decrease-competition-and-choice'),\n",
       " ('Feb. 27',\n",
       "  'On one plane, on a small order of one plane, I saved $725 million. And I would say I devoted about, if I added it up, all those calls, probably about an hour. So I think that might be my highest and best use.',\n",
       "  'Much of the price cut was already projected.',\n",
       "  'https://www.washingtonpost.com/news/fact-checker/wp/2017/01/31/trumps-claim-taking-credit-for-cutting-600-million-from-the-f-35-program/'),\n",
       " ('Feb. 28',\n",
       "  'And now, based on our very strong and frank discussions, they are beginning to do just that.',\n",
       "  'NATO countries agreed to meet defense spending requirements in 2014.',\n",
       "  'https://www.nytimes.com/2017/03/01/us/politics/fact-check-trump-military.html'),\n",
       " ('Feb. 28',\n",
       "  'The E.P.A.’s regulators were putting people out of jobs by the hundreds of thousands.',\n",
       "  \"There's no evidence that the Waters of the United States rule caused severe job losses.\",\n",
       "  'http://www.nytimes.com/2011/09/05/business/economy/a-debate-arises-on-job-creation-vs-environmental-regulation.html'),\n",
       " ('Feb. 28',\n",
       "  'We have begun to drain the swamp of government corruption by imposing a five-year ban on lobbying by executive branch officials.',\n",
       "  \"They can't lobby their former agency but can still become lobbyists.\",\n",
       "  'https://www.washingtonpost.com/politics/2017/live-updates/trump-white-house/real-time-fact-checking-and-analysis-of-trumps-address-to-congress/fact-check-bans-on-lobbying/?utm_term=.ce1370a2b78d'),\n",
       " ('March 3',\n",
       "  'It is so pathetic that the Dems have still not approved my full Cabinet.',\n",
       "  'Paperwork for the last two candidates was still not submitted to the Senate.',\n",
       "  'https://www.washingtonpost.com/news/politics/wp/2017/03/03/trump-is-blaming-the-democrats-for-cabinet-delays-that-are-normal-and-his-own-fault/?utm_term=.68b1395b9ff1'),\n",
       " ('March 4',\n",
       "  'Terrible! Just found out that Obama had my ‘wires tapped’ in Trump Tower just before the victory. Nothing found. This is McCarthyism!',\n",
       "  \"There's no evidence of a wiretap.\",\n",
       "  'https://www.nytimes.com/2017/03/04/us/politics/trump-obama-tap-phones.html'),\n",
       " ('March 4',\n",
       "  'How low has President Obama gone to tap my phones during the very sacred election process. This is Nixon/Watergate. Bad (or sick) guy!',\n",
       "  \"There's no evidence of a wiretap.\",\n",
       "  'https://www.nytimes.com/2017/03/04/us/politics/trump-obama-tap-phones.html'),\n",
       " ('March 7',\n",
       "  '122 vicious prisoners, released by the Obama Administration from Gitmo, have returned to the battlefield. Just another terrible decision!',\n",
       "  '113 of them were released by President George W. Bush.',\n",
       "  'https://www.nytimes.com/2017/03/07/us/politics/guantanamo-bay-trump.html'),\n",
       " ('March 13',\n",
       "  \"I saved a lot of money on those jets, didn't I? Did I do a good job? More than $725 million on them.\",\n",
       "  'Much of the cost cuts were planned before Trump.',\n",
       "  'https://www.washingtonpost.com/news/fact-checker/wp/2017/01/31/trumps-claim-taking-credit-for-cutting-600-million-from-the-f-35-program/'),\n",
       " ('March 13',\n",
       "  'First of all, it covers very few people.',\n",
       "  'About 20 million people gained insurance under Obamacare.',\n",
       "  'https://www.nytimes.com/2017/03/13/us/politics/fact-check-trump-obamacare-health-care.html'),\n",
       " ('March 15',\n",
       "  'On the airplanes, I saved $725 million. Probably took me a half an hour if you added up all of the times.',\n",
       "  'Much of the cost cuts were planned before Trump.',\n",
       "  'https://www.washingtonpost.com/news/fact-checker/wp/2017/01/31/trumps-claim-taking-credit-for-cutting-600-million-from-the-f-35-program/'),\n",
       " ('March 17',\n",
       "  'I was in Tennessee — I was just telling the folks — and half of the state has no insurance company, and the other half is going to lose the insurance company.',\n",
       "  \"There's at least one insurer in every Tennessee county.\",\n",
       "  'https://public.tableau.com/profile/kaiser.family.foundation#!/vizhome/InsurerParticipationinthe2017IndividualMarketplace/2017InsurerParticipation'),\n",
       " ('March 20',\n",
       "  'With just one negotiation on one set of airplanes, I saved the taxpayers of our country over $700 million.',\n",
       "  'Much of the cost cuts were planned before Trump.',\n",
       "  'https://www.washingtonpost.com/news/fact-checker/wp/2017/01/31/trumps-claim-taking-credit-for-cutting-600-million-from-the-f-35-program/'),\n",
       " ('March 21',\n",
       "  'To save taxpayer dollars, I’ve already begun negotiating better contracts for the federal government — saving over $700 million on just one set of airplanes of which there are many sets.',\n",
       "  'Much of the cost cuts were planned before Trump.',\n",
       "  'https://www.washingtonpost.com/news/fact-checker/wp/2017/01/31/trumps-claim-taking-credit-for-cutting-600-million-from-the-f-35-program/'),\n",
       " ('March 22',\n",
       "  'I make the statement, everyone goes crazy. The next day they have a massive riot, and death, and problems.',\n",
       "  'Riots in Sweden broke out two days later and there were no deaths.',\n",
       "  'https://www.nytimes.com/2017/02/19/world/europe/last-night-in-sweden-trumps-remark-baffles-a-nation.html'),\n",
       " ('March 22',\n",
       "  'NATO, obsolete, because it doesn’t cover terrorism. They fixed that.',\n",
       "  'It has fought terrorism since the 1980s.',\n",
       "  'http://www.politifact.com/truth-o-meter/statements/2016/sep/27/donald-trump/donald-trump-wrong-again-about-nato-increasing-ter/'),\n",
       " ('March 22',\n",
       "  'Well, now, if you take a look at the votes, when I say that, I mean mostly they register wrong — in other words, for the votes, they register incorrectly and/or illegally. And they then vote. You have tremendous numbers of people.',\n",
       "  \"There's no evidence of widespread voter fraud.\",\n",
       "  'https://www.nytimes.com/2017/01/24/us/politics/unauthorized-immigrant-voting-trump-lie.html'),\n",
       " ('March 29',\n",
       "  'Remember when the failing @nytimes apologized to its subscribers, right after the election, because their coverage was so wrong. Now worse!',\n",
       "  \"It didn't apologize.\",\n",
       "  'https://www.nytimes.com/2016/11/13/us/elections/to-our-readers-from-the-publisher-and-executive-editor.html'),\n",
       " ('March 31',\n",
       "  'We have a lot of plants going up now in Michigan that were never going to be there if I — if I didn’t win this election, those plants would never even think about going back. They were gone.',\n",
       "  'These investments were already planned.',\n",
       "  'https://www.nytimes.com/interactive/2017/business/economy/trump-jobs.html'),\n",
       " ('April 2',\n",
       "  'And I was totally opposed to the war in the Middle East which I think finally has been proven, people tried very hard to say I wasn’t but you’ve seen that it is now improving.',\n",
       "  'He was for an invasion before he was against it.',\n",
       "  'https://www.buzzfeed.com/andrewkaczynski/in-2002-donald-trump-said-he-supported-invading-iraq-on-the'),\n",
       " ('April 2',\n",
       "  'Now, my last tweet — you know, the one that you are talking about, perhaps — was the one about being, in quotes, wiretapped, meaning surveilled. Guess what, it is turning out to be true.',\n",
       "  'There is still no evidence.',\n",
       "  'https://www.nytimes.com/2017/03/04/us/politics/trump-obama-tap-phones.html'),\n",
       " ('April 5',\n",
       "  'You have many states coming up where they’re going to have no insurance company. O.K.? It’s already happened in Tennessee. It’s happening in Kentucky. Tennessee only has half coverage. Half the state is gone. They left.',\n",
       "  'Every marketplace region in Tennessee had at least one insurer.',\n",
       "  'https://www.nytimes.com/2017/03/24/us/politics/fact-check-trumps-misleading-claims-in-health-bill-failure.html'),\n",
       " ('April 6',\n",
       "  'If you look at the kind of cost-cutting we’ve been able to achieve with the military and at the same time ordering vast amounts of equipment — saved hundreds of millions of dollars on airplanes, and really billions, because if you take that out over a period of years it’s many billions of dollars — I think we’ve had a tremendous success.',\n",
       "  'Much of the price cuts were already projected.',\n",
       "  'https://www.washingtonpost.com/news/fact-checker/wp/2017/01/31/trumps-claim-taking-credit-for-cutting-600-million-from-the-f-35-program/'),\n",
       " ('April 11',\n",
       "  'I like Steve, but you have to remember he was not involved in my campaign until very late. I had already beaten all the senators and all the governors, and I didn’t know Steve.',\n",
       "  'He knew Steve Bannon since 2011.',\n",
       "  'https://www.nytimes.com/2017/04/12/us/politics/trump-steven-bannon-fox-business-news-interview.html?ref=politics'),\n",
       " ('April 12',\n",
       "  \"You can't do it faster, because they're obstructing. They're obstructionists. So I have people — hundreds of people that we're trying to get through. I mean you have — you see the backlog. We can't get them through.\",\n",
       "  'At this point, he had not nominated anyone for hundreds of positions.',\n",
       "  'https://www.nytimes.com/2017/04/12/us/politics/trump-steven-bannon-fox-business-news-interview.html?ref=politics'),\n",
       " ('April 12',\n",
       "  'The New York Times said the word wiretapped in the headline of the first edition. Then they took it out of there fast when they realized.',\n",
       "  'There were separate headlines for print and web, but neither were altered.',\n",
       "  'https://www.nytimes.com/2017/03/23/us/politics/fact-check-trump-misleads-surveillance-wiretapping.html'),\n",
       " ('April 12',\n",
       "  'The secretary general and I had a productive discussion about what more NATO can do in the fight against terrorism. I complained about that a long time ago and they made a change, and now they do fight terrorism.',\n",
       "  'NATO has been engaged in counterterrorism efforts since the 1980s.',\n",
       "  'https://www.nytimes.com/2017/04/12/us/politics/trump-steven-bannon-fox-business-news-interview.html?ref=politics'),\n",
       " ('April 12',\n",
       "  'Mosul was supposed to last for a week and now they’ve been fighting it for many months and so many more people died.',\n",
       "  'The campaign was expected to take months.',\n",
       "  'https://www.washingtonpost.com/news/the-fix/wp/2017/04/12/president-trumps-throughly-confusing-fox-business-interview-annotated/'),\n",
       " ('April 16',\n",
       "  'Someone should look into who paid for the small organized rallies yesterday. The election is over!',\n",
       "  \"There's no evidence of paid protesters.\",\n",
       "  'https://www.nytimes.com/2017/04/15/us/politics/tax-day-march.html'),\n",
       " ('April 18',\n",
       "  'The fake media goes, ‘Donald Trump changed his stance on China.’ I haven’t changed my stance.',\n",
       "  'He did.',\n",
       "  'https://www.nytimes.com/2017/04/14/business/china-currency-manipulation-trump.html'),\n",
       " ('April 21',\n",
       "  \"On 90 planes I saved $725 million. It's actually a little bit more than that, but it's $725 million.\",\n",
       "  'Much of the price cuts were already projected.',\n",
       "  'https://www.washingtonpost.com/news/fact-checker/wp/2017/01/31/trumps-claim-taking-credit-for-cutting-600-million-from-the-f-35-program/'),\n",
       " ('April 21',\n",
       "  'When WikiLeaks came out ... never heard of WikiLeaks, never heard of it.',\n",
       "  'He criticized it as early as 2010.',\n",
       "  'https://www.washingtonpost.com/news/fact-checker/wp/2017/04/25/fact-checking-president-trumps-pinocchio-laden-associated-press-interview/?utm_term=.33ae871d0c9c'),\n",
       " ('April 27',\n",
       "  'I want to help our miners while the Democrats are blocking their healthcare.',\n",
       "  'The bill to extend health benefits for certain coal miners was introduced by a Democrat and was co-sponsored by mostly Democrats.',\n",
       "  'http://www.pbs.org/newshour/rundown/retired-coal-miners-get-health-care-fix-pension-problems-remain/'),\n",
       " ('April 28',\n",
       "  'The trade deficit with Mexico is close to $70 billion, even with Canada it’s $17 billion trade deficit with Canada.',\n",
       "  'The U.S. had an $8.1 billion trade surplus, not deficit, with Canada in 2016.',\n",
       "  'http://www.factcheck.org/2017/05/trumps-100-day-boasts/'),\n",
       " ('April 28',\n",
       "  \"She's running against someone who's going to raise your taxes to the sky, destroy your health care, and he's for open borders — lots of crime.\",\n",
       "  \"Those are not Jon Ossoff's positions.\",\n",
       "  'http://www.mdjonline.com/opinion/jon-ossoff-voters-too-smart-to-believe-attack-ads/article_d6c9dafa-1e5a-11e7-a93c-c7e0b4d4f985.html'),\n",
       " ('April 28',\n",
       "  'The F-35 fighter jet program — it was way over budget. I’ve saved $725 million plus, just by getting involved in the negotiation.',\n",
       "  'Much of the price cuts were planned before Trump.',\n",
       "  'https://www.washingtonpost.com/news/fact-checker/wp/2017/01/31/trumps-claim-taking-credit-for-cutting-600-million-from-the-f-35-program/'),\n",
       " ('April 29',\n",
       "  \"As you know, I've been a big critic of China, and I've been talking about currency manipulation for a long time. But I have to tell you that during the election, number one, they stopped.\",\n",
       "  'China stopped years ago.',\n",
       "  'https://www.nytimes.com/2017/04/07/world/asia/fact-check-trump-china-trade.html'),\n",
       " ('April 29',\n",
       "  \"I've already saved more than $725 million on a simple order of F-35 planes. I got involved in the negotiation.\",\n",
       "  'Much of the price cuts were planned before Trump.',\n",
       "  'https://www.washingtonpost.com/news/fact-checker/wp/2017/01/31/trumps-claim-taking-credit-for-cutting-600-million-from-the-f-35-program/'),\n",
       " ('April 29',\n",
       "  \"We're also getting NATO countries to finally step up and contribute their fair share. They've begun to increase their contributions by billions of dollars, but we are not going to be satisfied until everyone pays what they owe.\",\n",
       "  'The deal was struck in 2014.',\n",
       "  'https://www.nytimes.com/2017/03/01/us/politics/fact-check-trump-military.html'),\n",
       " ('April 29',\n",
       "  'When they talk about currency manipulation, and I did say I would call China, if they were, a currency manipulator, early in my tenure. And then I get there. Number one, they — as soon as I got elected, they stopped.',\n",
       "  'China stopped in 2014.',\n",
       "  'https://www.nytimes.com/2017/04/07/world/asia/fact-check-trump-china-trade.html'),\n",
       " ('April 29',\n",
       "  'I was negotiating to reduce the price of the big fighter jet contract, the F-35, which was totally out of control. I will save billions and billions and billions of dollars.',\n",
       "  'Most of the cuts were planned before Trump.',\n",
       "  'https://www.washingtonpost.com/news/fact-checker/wp/2017/01/31/trumps-claim-taking-credit-for-cutting-600-million-from-the-f-35-program/'),\n",
       " ('April 29',\n",
       "  \"I think our side's been proven very strongly. And everybody's talking about it.\",\n",
       "  \"There's still no evidence Trump's phones were tapped.\",\n",
       "  'https://www.nytimes.com/2017/03/20/us/politics/intelligence-committee-russia-donald-trump.html'),\n",
       " ('May 1',\n",
       "  \"Well, we are protecting pre-existing conditions. And it'll be every good — bit as good on pre-existing conditions as Obamacare.\",\n",
       "  'The bill weakens protections for people with pre-existing conditions.',\n",
       "  'https://www.nytimes.com/2017/04/26/upshot/what-changed-in-the-health-repeal-plan-to-win-over-the-freedom-caucus.html'),\n",
       " ('May 1',\n",
       "  \"The F-35 fighter jet — I saved — I got involved in the negotiation. It's 2,500 jets. I negotiated for 90 planes, lot 10. I got $725 million off the price.\",\n",
       "  'Much of the price cuts were planned before Trump.',\n",
       "  'https://www.washingtonpost.com/news/fact-checker/wp/2017/01/31/trumps-claim-taking-credit-for-cutting-600-million-from-the-f-35-program/'),\n",
       " ('May 1',\n",
       "  \"First of all, since I started running, they haven't increased their — you know, they have not manipulated their currency. I think that was out of respect to me and the campaign.\",\n",
       "  'China stopped years ago.',\n",
       "  'https://www.nytimes.com/2017/04/07/world/asia/fact-check-trump-china-trade.html'),\n",
       " ('May 2',\n",
       "  'I love buying those planes at a reduced price. I have been really — I have cut billions — I have to tell you this, and they can check, right, Martha? I have cut billions and billions of dollars off plane contracts sitting here.',\n",
       "  'Much of the cost cuts were planned before Trump.',\n",
       "  'https://www.washingtonpost.com/news/fact-checker/wp/2017/01/31/trumps-claim-taking-credit-for-cutting-600-million-from-the-f-35-program/'),\n",
       " ('May 4',\n",
       "  'Number two, they’re actually not a currency [manipulator]. You know, since I’ve been talking about currency manipulation with respect to them and other countries, they stopped.',\n",
       "  'China stopped years ago.',\n",
       "  'https://www.nytimes.com/2017/04/07/world/asia/fact-check-trump-china-trade.html'),\n",
       " ('May 4',\n",
       "  'We’re the highest-taxed nation in the world.',\n",
       "  \"We're not.\",\n",
       "  'http://www.politifact.com/truth-o-meter/statements/2016/may/08/donald-trump/donald-trump-us-not-highest-taxed-nation-in-world/'),\n",
       " ('May 4',\n",
       "  'Nobody cares about my tax return except for the reporters.',\n",
       "  'Polls show most Americans do care.',\n",
       "  'http://time.com/money/4732925/trump-tax-returns-released-poll/'),\n",
       " ('May 8',\n",
       "  'You know we’ve gotten billions of dollars more in NATO than we’re getting. All because of me.',\n",
       "  'The deal was struck in 2014.',\n",
       "  'https://www.nytimes.com/2017/03/01/us/politics/fact-check-trump-military.html'),\n",
       " ('May 8',\n",
       "  'But when I did his show, which by the way was very highly rated. It was high — highest rating. The highest rating he’s ever had.',\n",
       "  \"Colbert's Late Show debut had nearly two million more viewers.\",\n",
       "  'http://money.cnn.com/2017/05/11/media/stephen-colbert-trump-no-talent-comment/'),\n",
       " ('May 8',\n",
       "  'Director Clapper reiterated what everybody, including the fake media already knows — there is ‘no evidence’ of collusion w/ Russia and Trump.',\n",
       "  \"Clapper only said he wasn't aware of an investigation.\",\n",
       "  'https://www.nytimes.com/2017/05/10/us/politics/fact-check-fbi-james-comey-sarah-huckabee-sanders.html'),\n",
       " ('May 12',\n",
       "  'Again, the story that there was collusion between the Russians & Trump campaign was fabricated by Dems as an excuse for losing the election.',\n",
       "  'The F.B.I. was investigating before the election.',\n",
       "  'https://www.nytimes.com/interactive/2017/05/10/us/politics/fbi-congress-trump-russia-investigations.html'),\n",
       " ('May 12',\n",
       "  'When James Clapper himself, and virtually everyone else with knowledge of the witch hunt, says there is no collusion, when does it end?',\n",
       "  \"Clapper said he wouldn't have been told of an investigation into collusion.\",\n",
       "  'https://www.nytimes.com/2017/05/10/us/politics/fact-check-fbi-james-comey-sarah-huckabee-sanders.html'),\n",
       " ('May 13',\n",
       "  \"I'm cutting the price of airplanes with Lockheed.\",\n",
       "  'The cost cuts were planned before he became president.',\n",
       "  'https://www.washingtonpost.com/news/fact-checker/wp/2017/01/31/trumps-claim-taking-credit-for-cutting-600-million-from-the-f-35-program/'),\n",
       " ('May 26',\n",
       "  'Just arrived in Italy for the G7. Trip has been very successful. We made and saved the USA many billions of dollars and millions of jobs.',\n",
       "  \"He's referencing an arms deal that's not enacted and other apparent deals that weren't announced on the trip.\",\n",
       "  'https://www.washingtonpost.com/news/fact-checker/wp/2017/05/26/president-trumps-claim-that-hes-already-saved-millions-of-jobs-on-his-foreign-trip/?utm_term=.820dd5955428'),\n",
       " ('June 1',\n",
       "  'China will be allowed to build hundreds of additional coal plants. So, we can’t build the plants, but they can, according to this agreement. India will be allowed to double its coal production by 2020.',\n",
       "  'The agreement doesn’t allow or disallow building coal plants.',\n",
       "  'https://www.washingtonpost.com/news/the-fix/wp/2017/06/01/transcript-president-trumps-remarks-on-leaving-the-paris-climate-deal-annotated/?utm_term=.7f974232c4ba'),\n",
       " ('June 1',\n",
       "  'I’ve just returned from a trip overseas where we concluded nearly $350 billion of military and economic development for the United States, creating hundreds of thousands of jobs.',\n",
       "  'Trump’s figures are inflated and premature.',\n",
       "  'https://www.washingtonpost.com/news/fact-checker/wp/2017/06/08/the-trump-administrations-tally-of-350-billion-plus-in-deals-with-saudi-arabia/?utm_term=.142db3117855'),\n",
       " ('June 4',\n",
       "  'At least 7 dead and 48 wounded in terror attack and Mayor of London says there is ‘no reason to be alarmed!’',\n",
       "  'The mayor was specifically talking about the enlarged police presence on the streets.',\n",
       "  'http://www.snopes.com/2017/06/04/london-mayor-sadiq-khan-no-reason-to-be-alarmed-trump/'),\n",
       " ('June 5',\n",
       "  'The Justice Dept. should have stayed with the original Travel Ban, not the watered down, politically correct version they submitted to S.C.',\n",
       "  'Trump signed this version of the travel ban, not the Justice Department.',\n",
       "  'http://www.factcheck.org/2017/06/trumps-tweets-twist-facts/'),\n",
       " ('June 20',\n",
       "  'Well, the Special Elections are over and those that want to MAKE AMERICA GREAT AGAIN are 5 and O!',\n",
       "  'Republicans have won four special elections this year, while a Democrat won one.',\n",
       "  'https://www.washingtonpost.com/news/the-fix/wp/2017/06/21/republicans-claim-a-big-victory-and-trump-promptly-exaggerates-it/?utm_term=.ce22a6dade36'),\n",
       " ('June 21',\n",
       "  \"They all say it's 'nonbinding.' Like hell it's nonbinding.\",\n",
       "  'The Paris climate agreement is nonbinding — and Trump said so in his speech announcing the withdrawal.',\n",
       "  'https://www.nytimes.com/2017/06/21/us/politics/trump-iowa-rally-venting-session.html'),\n",
       " ('June 21',\n",
       "  'Right now, we are one of the highest-taxed nations in the world.',\n",
       "  \"We're not.\",\n",
       "  'http://www.politifact.com/truth-o-meter/article/2017/jun/22/fact-checking-nine-things-trump-overstated-got-wro/'),\n",
       " ('June 21',\n",
       "  'You have a gang called MS-13. ... We are moving them out of the country by the thousands, by the thousands.',\n",
       "  'The real number of gang members deported is smaller.',\n",
       "  'http://www.factcheck.org/2017/06/factchecking-trumps-iowa-rally'),\n",
       " ('June 21',\n",
       "  'Your insurance companies have all fled the state of Iowa.',\n",
       "  \"They haven't.\",\n",
       "  'http://www.factcheck.org/2017/06/factchecking-trumps-iowa-rally/'),\n",
       " ('June 21',\n",
       "  \"If [farmers] have a puddle in the middle of their field ... it's considered a lake and you can't touch it. ... We got rid of that one, too, O.K.?\",\n",
       "  'The Obama environmental rule to limit pollution in the country’s waters explicitly excludes puddles.',\n",
       "  'https://www.nytimes.com/2017/06/22/us/politics/factcheck-donald-trump-iowa-rally.html'),\n",
       " ('June 21',\n",
       "  'Gary Cohn just paid $200 million in tax in order to take this job, by the way.',\n",
       "  'Cohn sold Goldman Sachs stock worth $220 million.',\n",
       "  'https://www.nytimes.com/2017/06/22/us/politics/factcheck-donald-trump-iowa-rally.html'),\n",
       " ('June 21',\n",
       "  'We’re 5 and 0.',\n",
       "  'Republicans have won four special elections this year, while a Democrat won one.',\n",
       "  'https://www.washingtonpost.com/graphics/politics/trump-claims-database/?utm_term=.60ce71155f60'),\n",
       " ('June 21',\n",
       "  'Last week a brand-new coal mine just opened in the state of Pennsylvania, first time in decades, decades.',\n",
       "  'Another coal mine opened in 2014.',\n",
       "  'https://www.washingtonpost.com/graphics/politics/trump-claims-database/?utm_term=.60ce71155f60'),\n",
       " ('June 22',\n",
       "  'Former Homeland Security Advisor Jeh Johnson is latest top intelligence official to state there was no grand scheme between Trump & Russia.',\n",
       "  \"Johnson, who had a different title, didn't say that.\",\n",
       "  'http://talkingpointsmemo.com/livewire/trump-claims-johnson-testimony-clears-him'),\n",
       " ('June 23',\n",
       "  'We are 5 and 0 ... in these special elections.',\n",
       "  'Republicans have won four special elections this year, while a Democrat won one.',\n",
       "  'http://www.chicagotribune.com/news/nationworld/politics/factcheck/ct-fact-check-trump-missions-20170624-story.html'),\n",
       " ('June 27',\n",
       "  'Ratings way down!',\n",
       "  \"CNN's ratings were at a five-year high at the time.\",\n",
       "  'http://www.politifact.com/truth-o-meter/statements/2017/jul/03/donald-trump/trumps-pants-fire-claim-cnn-ratings-are-way-down/'),\n",
       " ('June 28',\n",
       "  'Democrats purposely misstated Medicaid under new Senate bill — actually goes up.',\n",
       "  'Senate bill would have cut the program deeply.',\n",
       "  'https://www.washingtonpost.com/news/fact-checker/wp/2017/06/30/president-trumps-claim-medicaid-spending-in-senate-health-bill-actually-goes-up/?utm_term=.a319dee54870'),\n",
       " ('June 29',\n",
       "  'General Kelly and his whole group — they’ve gotten rid of 6,000 so far.',\n",
       "  'The real number of MS-13 gang members who have been deported is smaller.',\n",
       "  'https://www.washingtonpost.com/graphics/politics/trump-claims-database/?utm_term=.aa961e129167'),\n",
       " ('July 6',\n",
       "  'As a result of this insistence, billions of dollars more have begun to pour into NATO.',\n",
       "  'NATO countries agreed to meet defense spending requirements in 2014.',\n",
       "  'http://www.nbcnews.com/politics/donald-trump/fact-check-long-trump-took-credit-nato-spending-was-n780241'),\n",
       " ('July 17',\n",
       "  'We’ve signed more bills — and I’m talking about through the legislature — than any president, ever.',\n",
       "  'Clinton, Carter, Truman, and F.D.R. had signed more at the same point.',\n",
       "  'https://www.nytimes.com/2017/07/17/us/politics/trump-laws-bills.html'),\n",
       " ('July 19',\n",
       "  'Um, the Russian investigation — it’s not an investigation, it’s not on me — you know, they’re looking at a lot of things.',\n",
       "  'It is.',\n",
       "  'http://time.com/4823514/donald-trump-investigation-jay-sekulow/'),\n",
       " ('July 19',\n",
       "  'I heard that Harry Truman was first, and then we beat him. These are approved by Congress. These are not just executive orders.',\n",
       "  'Presidents Clinton, Carter, Truman, and F.D.R. each had signed more legislation than Trump at the same point in their terms.',\n",
       "  'https://www.nytimes.com/2017/07/17/us/politics/trump-laws-bills.html'),\n",
       " ('July 19',\n",
       "  'But the F.B.I. person really reports directly to the president of the United States, which is interesting.',\n",
       "  'He reports directly to the attorney general.',\n",
       "  'https://www.usatoday.com/story/news/politics/onpolitics/2017/07/20/fbi-director-reports-justice-department-not-president/495094001/'),\n",
       " ('July 19',\n",
       "  'She did the uranium deal, which is a horrible thing, while she was secretary of state, and got a lot of money.',\n",
       "  \"There's no evidence Hillary Clinton was actively involved or benefited from the deal.\",\n",
       "  'http://www.factcheck.org/2017/10/facts-uranium-one/'),\n",
       " ('July 24',\n",
       "  'It looks like about 45,000 people. You set a record today.',\n",
       "  'Many fewer than 45,000 were there, and the attendance was not a record.',\n",
       "  'https://www.washingtonpost.com/news/fact-checker/wp/2017/07/26/26-hours-29-trumpian-false-or-misleading-claims/?utm_term=.2e4b2407199f'),\n",
       " ('July 25',\n",
       "  'We have the highest taxes anywhere in the world, and this will really bring them down to one of the lowest.',\n",
       "  'Tax rates in the United States are below average, overall and for an industrialized country.',\n",
       "  'http://www.politifact.com/truth-o-meter/statements/2017/oct/18/donald-trump/once-again-trump-overstates-us-tax-ranking/'),\n",
       " ('July 25',\n",
       "  'We’re the highest-taxed nation in the world',\n",
       "  \"We're not.\",\n",
       "  'http://www.politifact.com/truth-o-meter/statements/2017/oct/18/donald-trump/once-again-trump-overstates-us-tax-ranking/'),\n",
       " ('July 25',\n",
       "  'We have nearly doubled the number of veterans given approvals to see the doctor of their choice.',\n",
       "  'The increase was 26 percent.',\n",
       "  'https://www.usatoday.com/story/opinion/2017/07/24/veterans-health-care-will-not-be-privatized-david-shulkin-column/499417001/'),\n",
       " ('July 25',\n",
       "  'Since I took office we have cut illegal immigration on our southern border by record numbers. 78 percent.',\n",
       "  \"The decline began before Trump's inauguration.\",\n",
       "  'https://www.nytimes.com/interactive/2017/10/12/us/politics/trump-border-claim-factcheck.html?_r=0'),\n",
       " ('July 28',\n",
       "  'The previous administration enacted an open-door policy to illegal migrants from Central America.  \"Welcome in. Come in, please, please.',\n",
       "  'Obama deported millions.',\n",
       "  'http://www.politifact.com/truth-o-meter/article/2017/jul/28/fact-checking-donald-trumps-ny-speech-law-enforcem/'),\n",
       " ('July 28',\n",
       "  'We have trade deficits with almost every country because we had a lot of really bad negotiators making deals with other countries.',\n",
       "  'The U.S. has a trade surplus with more than 100 countries.',\n",
       "  'https://www.bea.gov/newsreleases/international/trade/2017/trad0917.htm'),\n",
       " ('July 31',\n",
       "  '2.6 is a number that nobody thought they’d see for a long period of time.',\n",
       "  'Many experts predicted economic growth at least this high.',\n",
       "  'http://www.factcheck.org/2017/08/trumps-gdp-puffery/'),\n",
       " ('July 31',\n",
       "  'And even the President of Mexico called me  – they said their southern border, very few people are coming because they know they’re not going to get through our border, which is the ultimate compliment.',\n",
       "  \"Mexico's president says he didn't call Trump.\",\n",
       "  'http://www.cnn.com/2017/08/02/politics/trump-phone-calls/index.html'),\n",
       " ('Aug. 1',\n",
       "  \"And I think to me, maybe the biggest is that GDP for the quarter just released at 2.6 percent. So that's so much higher than anticipated.\",\n",
       "  \"It wasn't.\",\n",
       "  'http://www.factcheck.org/2017/08/trumps-gdp-puffery/'),\n",
       " ('Aug. 3',\n",
       "  'Economic growth has surged to 2.6% nationwide. You have to understand what that means. Nobody thought that number was going to happen.',\n",
       "  'Many experts predicted that.',\n",
       "  'https://www.usatoday.com/story/news/politics/2017/08/04/fact-checking-donald-trumps-west-virginia-rally/541318001/'),\n",
       " ('Aug. 3',\n",
       "  'The Russia story is a total fabrication.',\n",
       "  \"It's not.\",\n",
       "  'https://www.washingtonpost.com/news/fact-checker/wp/2017/08/03/fact-checking-the-trump-russia-investigation/?utm_term=.1404a36076a6'),\n",
       " ('Aug. 3',\n",
       "  'Or let them look at the uranium she sold that is now in the hands of very angry Russians.',\n",
       "  \"There's no evidence Hillary Clinton was actively involved in the sale.\",\n",
       "  'http://www.factcheck.org/2017/08/factchecking-trumps-west-virginia-rally/'),\n",
       " ('Aug. 15',\n",
       "  \"We want products made in the country. Now, I have to tell you, some of the folks that will leave, they're leaving out of embarrassment because they make their products outside.\",\n",
       "  \"People resigned from Trump's business councils over his Charlottesville comments.\",\n",
       "  'http://money.cnn.com/2017/08/16/news/trump-manufacturing-council-ceos/index.html'),\n",
       " ('Aug. 22',\n",
       "  'Remember, everybody said you won’t bring it up to 1 percent. You won’t bring it up to 1.2 percent.',\n",
       "  'Many experts predicted economic growth at least this high.',\n",
       "  'https://washingtonmonthly.com/2017/08/23/quick-takes-how-many-lies-did-trump-tell-last-night/'),\n",
       " ('Aug. 22',\n",
       "  \"I mean truly dishonest people in the media and the fake media, they make up stories. They have no sources in many cases. They say 'a source says'  – there is no such thing.\",\n",
       "  'The media does not make up sources.',\n",
       "  'http://www.factcheck.org/2017/02/factchecking-trumps-cpac-speech/'),\n",
       " ('Aug. 22',\n",
       "  'As everybody here remembers, this was the scene of my first rally speech, right?',\n",
       "  \"Trump's first rally was in New Hampshire\",\n",
       "  'https://www.realclearpolitics.com/articles/2015/06/18/at_trumps_nh_rally_true_believers_and_big_fans_127030.html'),\n",
       " ('Aug. 22',\n",
       "  'We have become an energy exporter for the first time ever just recently.',\n",
       "  \"The U.S. isn't projected to become a net energy exporter until 2026.\",\n",
       "  'http://www.politifact.com/truth-o-meter/statements/2017/aug/23/donald-trump/donald-trump-wrongly-says-us-net-energy-exporte/'),\n",
       " ('Aug. 22',\n",
       "  \"Look back there, the live red lights. They're turning those suckers off fast out there. They're turning those lights off fast. Like CNN.\",\n",
       "  \"CNN didn't turn off its cameras.\",\n",
       "  'http://www.cnn.com/2017/08/23/politics/phoenix-rally-things-trump-got-wrong/index.html'),\n",
       " ('Sept. 6',\n",
       "  'The taxes are crazy  – the highest-taxed nation in the world.',\n",
       "  \"We're not.\",\n",
       "  'http://www.politifact.com/truth-o-meter/statements/2016/may/08/donald-trump/donald-trump-us-not-highest-taxed-nation-in-world/'),\n",
       " ('Sept. 6',\n",
       "  'We are the highest taxed nation in the world - that will change.',\n",
       "  \"We're not.\",\n",
       "  'http://www.politifact.com/truth-o-meter/statements/2016/may/08/donald-trump/donald-trump-us-not-highest-taxed-nation-in-world/'),\n",
       " ('Sept. 8',\n",
       "  'Our incredible U.S. Coast Guard saved more than 15,000 lives last week with Harvey.',\n",
       "  'The real number is 11,022.',\n",
       "  'https://content.govdelivery.com/accounts/USDHSCG/bulletins/1b5ace3'),\n",
       " ('Sept. 14',\n",
       "  \"Also with the fact that I know in the case of FEMA and the case of Coast Guard, the job you've done in saving people, saving lives.  As an example, in Harvey in Texas, we talked  – over 16,000 lives.\",\n",
       "  'The real number is smaller.',\n",
       "  'https://content.govdelivery.com/accounts/USDHSCG/bulletins/1b5ace3'),\n",
       " ('Sept. 14',\n",
       "  'And in Florida you got hit with the strongest winds ever recorded.',\n",
       "  \"They weren't the strongest ever recorded.\",\n",
       "  'https://www.washingtonpost.com/news/post-nation/wp/2017/09/09/destructive-winds-rain-hit-florida-as-hurricane-irma-approaches/'),\n",
       " ('Sept. 22',\n",
       "  \"We've been dealing with ICE, we've been dealing with the Border Patrol. They both endorsed me.\",\n",
       "  'Neither agency endorsed him; only their unions did.',\n",
       "  'http://www.politifact.com/truth-o-meter/statements/2016/oct/10/donald-trump/trump-says-ice-endorsed-him/'),\n",
       " ('Sept. 22',\n",
       "  \"So he started off here, he was in third or fourth, he went to third, second, and now it's like almost pretty even.\",\n",
       "  'Strange consistently polled first or second in the Alabama Republican primary.',\n",
       "  'https://www.realclearpolitics.com/epolls/2017/senate/al/alabama_senate_special_election_republican_primary-6220.html#polls'),\n",
       " ('Sept. 29',\n",
       "  \"With the F-35 fighter plane  – me, myself  – I've saved hundreds of millions of dollars in negotiating.\",\n",
       "  'The cost cuts were planned before he became president.',\n",
       "  'https://www.washingtonpost.com/news/fact-checker/wp/2017/01/31/trumps-claim-taking-credit-for-cutting-600-million-from-the-f-35-program/?utm_term=.ef182851faef'),\n",
       " ('Sept. 27',\n",
       "  'I’m doing the right thing, and it’s not good for me.',\n",
       "  'All available evidence suggests he would benefit.',\n",
       "  'https://www.washingtonpost.com/news/fact-checker/wp/2017/09/28/fact-checking-president-trumps-tax-speech-in-indianapolis/?utm_term=.1c2a17457496'),\n",
       " ('Sept. 27',\n",
       "  'To protect millions of small businesses and the American farmer, we are finally ending the crushing, the horrible, the unfair estate tax.',\n",
       "  'The real number of small businesses and farmers is vastly smaller.',\n",
       "  'http://www.politifact.com/truth-o-meter/statements/2017/sep/28/donald-trump/donald-trumps-pants-fire-claim-about-estate-tax-sm/'),\n",
       " ('Sept. 27',\n",
       "  \"No, I don't benefit. I don't benefit. In fact, very very strongly, as you see, I think there's very little benefit for people of wealth.\",\n",
       "  'The tax plan would personally benefit Trump\\xa0and other wealthy individuals.',\n",
       "  'http://www.politifact.com/truth-o-meter/statements/2017/sep/28/donald-trump/donald-trumps-dubious-claim-his-tax-plan-wont-bene/'),\n",
       " ('Sept. 27',\n",
       "  'Facebook was always anti-Trump.The Networks were always anti-Trump hence,Fake News, @nytimes(apologized) & @WaPo were anti-Trump.',\n",
       "  'The Times did not apologize for its Trump coverage.',\n",
       "  'https://www.nytimes.com/2016/11/13/us/elections/to-our-readers-from-the-publisher-and-executive-editor.html'),\n",
       " ('Sept. 28',\n",
       "  \"I mean right now, we're the highest-taxed nation in the world.\",\n",
       "  \"We're not.\",\n",
       "  'http://www.politifact.com/truth-o-meter/statements/2016/may/08/donald-trump/donald-trump-us-not-highest-taxed-nation-in-world/'),\n",
       " ('Oct. 3',\n",
       "  'But the Coast Guard itself saved in Texas 16,000 lives, and they went right through that hurricane.',\n",
       "  'The real number is smaller.',\n",
       "  'https://content.govdelivery.com/accounts/USDHSCG/bulletins/1b5ace3'),\n",
       " ('Oct. 3',\n",
       "  \"But that's an expensive plane that you can't see. And as you probably heard, we cut the price very substantially  – something that other administrations would never have done, that I can tell you.\",\n",
       "  'The cost cuts were planned before he became president.',\n",
       "  'https://www.washingtonpost.com/news/fact-checker/wp/2017/01/31/trumps-claim-taking-credit-for-cutting-600-million-from-the-f-35-program/?utm_term=.ef182851faef'),\n",
       " ('Oct. 6',\n",
       "  'I was able to reduce the price of the Lockheed by billions of dollars.',\n",
       "  'The cost cuts were planned before he became president.',\n",
       "  'https://www.washingtonpost.com/news/fact-checker/wp/2017/01/31/trumps-claim-taking-credit-for-cutting-600-million-from-the-f-35-program/?utm_term=.ef182851faef'),\n",
       " ('Oct. 6',\n",
       "  \"We're the highest-taxed developed nation in the world, probably the highest-taxed nation in the world.\",\n",
       "  \"We're not.\",\n",
       "  'http://www.politifact.com/truth-o-meter/statements/2016/may/08/donald-trump/donald-trump-us-not-highest-taxed-nation-in-world/'),\n",
       " ('Oct. 6',\n",
       "  'They also just said that there has been absolutely no collusion. They just said that. Yesterday. Two days ago. Senate. There has been no collusion.',\n",
       "  \"The Senate didn't say that.\",\n",
       "  'http://www.cnn.com/TRANSCRIPTS/1710/04/ip.02.html'),\n",
       " ('Oct. 6',\n",
       "  \"This tax cut and tax reform is going very well, and it's going to be a tremendous boost for our country, including the fact that we're the highest-taxed nation in the world.\",\n",
       "  \"We're not.\",\n",
       "  'http://www.politifact.com/truth-o-meter/statements/2016/may/08/donald-trump/donald-trump-us-not-highest-taxed-nation-in-world/'),\n",
       " ('Oct. 7',\n",
       "  \"We're the highest-taxed nation in the world.\",\n",
       "  \"We're not.\",\n",
       "  'http://www.politifact.com/truth-o-meter/statements/2016/may/08/donald-trump/donald-trump-us-not-highest-taxed-nation-in-world/'),\n",
       " ('Oct. 7',\n",
       "  'The Coast Guard, in Texas, and all over, but with the job they did in Texas, I saw, they saved 16,000 lives.',\n",
       "  'The real number is smaller.',\n",
       "  'https://content.govdelivery.com/accounts/USDHSCG/bulletins/1b5ace3'),\n",
       " ('Oct. 7',\n",
       "  \"Obama should have never gotten out the way he got out. That's how ISIS formed.\",\n",
       "  'The group’s origins date to 2004.',\n",
       "  'https://www.nytimes.com/2015/11/19/world/middleeast/in-rise-of-isis-no-single-missed-key-but-many-strands-of-blame.html'),\n",
       " ('Oct. 10',\n",
       "  \"The Failing @nytimes set Liddle' Bob Corker up by recording his conversation. Was made to sound a fool, and that's what I am dealing with!\",\n",
       "  'Corker asked the Times reporter to record the call; his aides recorded it too.',\n",
       "  'https://www.nytimes.com/2017/10/10/reader-center/trump-claims-we-tricked-bob-corker-heres-the-truth.html?_r=0'),\n",
       " ('Oct. 10',\n",
       "  \"We're the highest-taxed nation in the world.\",\n",
       "  \"We're not.\",\n",
       "  'http://www.politifact.com/truth-o-meter/statements/2016/may/08/donald-trump/donald-trump-us-not-highest-taxed-nation-in-world/'),\n",
       " ('Oct. 11',\n",
       "  \"We have missiles that can knock out a missile in the air. Ninety seven per cent of the time. If you send two of them, it's going to get knocked out.\",\n",
       "  'The effectiveness rate is about 60 percent.',\n",
       "  'https://warontherocks.com/2017/10/deadly-overconfidence-trump-thinks-missile-defenses-work-against-north-korea-and-that-should-scare-you/'),\n",
       " ('Oct. 16',\n",
       "  \"We're the highest-taxed country in the world.\",\n",
       "  \"We're not.\",\n",
       "  'http://www.politifact.com/truth-o-meter/statements/2016/may/08/donald-trump/donald-trump-us-not-highest-taxed-nation-in-world/'),\n",
       " ('Oct. 16',\n",
       "  'I hear that Ireland is going to be reducing their corporate rates down to 8 percent from 12.',\n",
       "  'Ireland has no plans to cut its tax rate.',\n",
       "  'https://www.snopes.com/trump-ireland-tax/'),\n",
       " ('Oct. 16',\n",
       "  'If you look at President Obama and other presidents, most of them didn’t make calls.',\n",
       "  'They did call families of soldiers killed in action.',\n",
       "  'https://www.nytimes.com/2017/10/16/us/politics/trump-obama-killed-soldiers.html'),\n",
       " ('Oct. 16',\n",
       "  \"All I can say is it's totally fake news, just fake. It's fake. It's made-up stuff, and it's disgraceful what happens, but that happens in the world of politics.\",\n",
       "  'Trump himself has bragged about groping women.',\n",
       "  'https://www.washingtonpost.com/news/fact-checker/wp/2017/10/27/trump-says-sex-harassment-claims-are-fake-news-but-there-are-corroborators/?utm_term=.23c3b28384e2'),\n",
       " ('Oct. 17',\n",
       "  \"We're the highest taxed nation in the world.\",\n",
       "  \"We're not.\",\n",
       "  'http://www.politifact.com/truth-o-meter/statements/2016/may/08/donald-trump/donald-trump-us-not-highest-taxed-nation-in-world/'),\n",
       " ('Oct. 17',\n",
       "  'Right now, we are the highest-taxed nation anywhere in the world. You can even say developed or undeveloped.',\n",
       "  \"We're not.\",\n",
       "  'http://www.politifact.com/truth-o-meter/statements/2016/may/08/donald-trump/donald-trump-us-not-highest-taxed-nation-in-world/'),\n",
       " ('Oct. 17',\n",
       "  \"As far as I'm concerned, I think we're really essentially the highest. But if you'd like to add the developed nation, you can say that, too.\",\n",
       "  'Taxes in the U.S. are lower than in most developed countries.',\n",
       "  'http://www.politifact.com/truth-o-meter/statements/2016/may/08/donald-trump/donald-trump-us-not-highest-taxed-nation-in-world/'),\n",
       " ('Oct. 17',\n",
       "  \"We're the highest-taxed nation in the world. We are taxed beyond belief.\",\n",
       "  \"We're not.\",\n",
       "  'http://www.politifact.com/truth-o-meter/statements/2016/may/08/donald-trump/donald-trump-us-not-highest-taxed-nation-in-world/'),\n",
       " ('Oct. 17',\n",
       "  \"Well, we're the highest-taxed nation in the world.\",\n",
       "  \"We're not.\",\n",
       "  'http://www.politifact.com/truth-o-meter/statements/2016/may/08/donald-trump/donald-trump-us-not-highest-taxed-nation-in-world/'),\n",
       " ('Oct. 17',\n",
       "  \"I wish President Obama didn't get out the way he got out. Because that left a vacuum and ISIS was formed.\",\n",
       "  'The group’s origins date to 2004.',\n",
       "  'https://www.nytimes.com/2015/11/19/world/middleeast/in-rise-of-isis-no-single-missed-key-but-many-strands-of-blame.html'),\n",
       " ('Oct. 18',\n",
       "  'Democrat Congresswoman totally fabricated what I said to the wife of a soldier who died in action (and I have proof).',\n",
       "  \"The wife confirmed Representative Frederica Wilson's account.\",\n",
       "  'http://time.com/4993045/myeshia-johnson-donald-trump-frederica-wilson/'),\n",
       " ('Oct. 18',\n",
       "  'The Coast Guard in Texas saved 16,000 lives.',\n",
       "  'The real number was smaller.',\n",
       "  'https://content.govdelivery.com/accounts/USDHSCG/bulletins/1b5ace3'),\n",
       " ('Oct. 18',\n",
       "  'Nobody has ever heard of a five hitting land.',\n",
       "  'Category 5 storms have hit land before.',\n",
       "  'http://www.cnn.com/2017/09/07/us/three-category-5-hurricanes-landfall-trnd/index.html'),\n",
       " ('Oct. 24',\n",
       "  'Under our plan, more than 30 million Americans who own small businesses will get a 40 per cent cut to their top marginal tax rate.',\n",
       "  'The real number is estimated to be less than 1 million.',\n",
       "  'http://www.businessinsider.com/trump-small-business-tax-cut-pass-through-s-corporations-2017-10'),\n",
       " ('Oct. 25',\n",
       "  'We have trade deficits with almost everybody.',\n",
       "  'We have trade surpluses with more than 100 countries.',\n",
       "  'https://www.bea.gov/newsreleases/international/trade/2017/trad0917.htm'),\n",
       " ('Oct. 27',\n",
       "  'Wacky & totally unhinged Tom Steyer, who has been fighting me and my Make America Great Again agenda from beginning, never wins elections!',\n",
       "  'Steyer has financially supported many winning candidates.',\n",
       "  'https://www.opensecrets.org/donor-lookup/results?name=Thomas+Steyer'),\n",
       " ('Nov. 1',\n",
       "  \"Again, we're the highest-taxed nation, just about, in the world.\",\n",
       "  \"We're not.\",\n",
       "  'http://www.politifact.com/truth-o-meter/statements/2016/may/08/donald-trump/donald-trump-us-not-highest-taxed-nation-in-world/'),\n",
       " ('Nov. 7',\n",
       "  \"When you look at the city with the strongest gun laws in our nation, it's Chicago.\",\n",
       "  'Several other cities, including New York and Los Angeles, have stronger gun laws.',\n",
       "  'http://www.politifact.com/truth-o-meter/statements/2017/nov/07/donald-trump/trump-wrongly-repeats-chicago-has-strongest-gun-la/'),\n",
       " ('Nov. 11',\n",
       "  \"I'd rather have him  – you know, work with him on the Ukraine than standing and arguing about whether or not  – because that whole thing was set up by the Democrats.\",\n",
       "  'There is no evidence that Democrats \"set up\" Russian interference in the election.',\n",
       "  'https://www.nytimes.com/interactive/2017/12/10/us/politics/trump-and-russia.html')]"
      ]
     },
     "execution_count": 28,
     "metadata": {},
     "output_type": "execute_result"
    }
   ],
   "source": [
    "records"
   ]
  },
  {
   "cell_type": "code",
   "execution_count": 29,
   "metadata": {},
   "outputs": [],
   "source": [
    "import pandas as pd"
   ]
  },
  {
   "cell_type": "code",
   "execution_count": 30,
   "metadata": {},
   "outputs": [
    {
     "data": {
      "text/html": [
       "<div>\n",
       "<style scoped>\n",
       "    .dataframe tbody tr th:only-of-type {\n",
       "        vertical-align: middle;\n",
       "    }\n",
       "\n",
       "    .dataframe tbody tr th {\n",
       "        vertical-align: top;\n",
       "    }\n",
       "\n",
       "    .dataframe thead th {\n",
       "        text-align: right;\n",
       "    }\n",
       "</style>\n",
       "<table border=\"1\" class=\"dataframe\">\n",
       "  <thead>\n",
       "    <tr style=\"text-align: right;\">\n",
       "      <th></th>\n",
       "      <th>DATE</th>\n",
       "      <th>LIE</th>\n",
       "      <th>EXPLANATION</th>\n",
       "      <th>URL</th>\n",
       "    </tr>\n",
       "  </thead>\n",
       "  <tbody>\n",
       "    <tr>\n",
       "      <th>0</th>\n",
       "      <td>Jan. 21</td>\n",
       "      <td>I wasn't a fan of Iraq. I didn't want to go in...</td>\n",
       "      <td>He was for an invasion before he was against it.</td>\n",
       "      <td>https://www.buzzfeed.com/andrewkaczynski/in-20...</td>\n",
       "    </tr>\n",
       "    <tr>\n",
       "      <th>1</th>\n",
       "      <td>Jan. 21</td>\n",
       "      <td>A reporter for Time magazine — and I have been...</td>\n",
       "      <td>Trump was on the cover 11 times and Nixon appe...</td>\n",
       "      <td>http://nation.time.com/2013/11/06/10-things-yo...</td>\n",
       "    </tr>\n",
       "    <tr>\n",
       "      <th>2</th>\n",
       "      <td>Jan. 23</td>\n",
       "      <td>Between 3 million and 5 million illegal votes ...</td>\n",
       "      <td>There's no evidence of illegal voting.</td>\n",
       "      <td>https://www.nytimes.com/2017/01/23/us/politics...</td>\n",
       "    </tr>\n",
       "  </tbody>\n",
       "</table>\n",
       "</div>"
      ],
      "text/plain": [
       "      DATE                                                LIE  \\\n",
       "0  Jan. 21  I wasn't a fan of Iraq. I didn't want to go in...   \n",
       "1  Jan. 21  A reporter for Time magazine — and I have been...   \n",
       "2  Jan. 23  Between 3 million and 5 million illegal votes ...   \n",
       "\n",
       "                                         EXPLANATION  \\\n",
       "0   He was for an invasion before he was against it.   \n",
       "1  Trump was on the cover 11 times and Nixon appe...   \n",
       "2             There's no evidence of illegal voting.   \n",
       "\n",
       "                                                 URL  \n",
       "0  https://www.buzzfeed.com/andrewkaczynski/in-20...  \n",
       "1  http://nation.time.com/2013/11/06/10-things-yo...  \n",
       "2  https://www.nytimes.com/2017/01/23/us/politics...  "
      ]
     },
     "execution_count": 30,
     "metadata": {},
     "output_type": "execute_result"
    }
   ],
   "source": [
    "df = pd.DataFrame(records)\n",
    "df.columns = ['DATE','LIE','EXPLANATION',\"URL\"]\n",
    "df.head(3)"
   ]
  },
  {
   "cell_type": "code",
   "execution_count": 31,
   "metadata": {},
   "outputs": [],
   "source": [
    "df.to_csv(\"President_Donald_Trumps_Lies.csv\",index = False)"
   ]
  },
  {
   "cell_type": "markdown",
   "metadata": {},
   "source": [
    "# Building the dataset\n",
    "\n",
    "Now that we've figured out how to extract the four components of first_result, we can create a loop to repeat this process on all 180 results. We'll store the output in a list of tuples called records:"
   ]
  },
  {
   "cell_type": "code",
   "execution_count": 32,
   "metadata": {},
   "outputs": [],
   "source": [
    "records = []\n",
    "\n",
    "for result in results:\n",
    "    \n",
    "    date = result.find('strong').text[0:-1] \n",
    "    lie = result.contents[1][1:-2]\n",
    "    explanation = result.find('a').text[1:-1]\n",
    "    url = result.find('a')['href']\n",
    "\n",
    "    \n",
    "    records.append((date, lie, explanation, url))"
   ]
  },
  {
   "cell_type": "code",
   "execution_count": 33,
   "metadata": {},
   "outputs": [
    {
     "data": {
      "text/plain": [
       "180"
      ]
     },
     "execution_count": 33,
     "metadata": {},
     "output_type": "execute_result"
    }
   ],
   "source": [
    "len(records)"
   ]
  },
  {
   "cell_type": "code",
   "execution_count": 34,
   "metadata": {},
   "outputs": [
    {
     "data": {
      "text/plain": [
       "[('Jan. 21',\n",
       "  \"I wasn't a fan of Iraq. I didn't want to go into Iraq.\",\n",
       "  'He was for an invasion before he was against it.',\n",
       "  'https://www.buzzfeed.com/andrewkaczynski/in-2002-donald-trump-said-he-supported-invading-iraq-on-the'),\n",
       " ('Jan. 21',\n",
       "  'A reporter for Time magazine — and I have been on their cover 14 or 15 times. I think we have the all-time record in the history of Time magazine.',\n",
       "  'Trump was on the cover 11 times and Nixon appeared 55 times.',\n",
       "  'http://nation.time.com/2013/11/06/10-things-you-didnt-know-about-time/'),\n",
       " ('Jan. 23',\n",
       "  'Between 3 million and 5 million illegal votes caused me to lose the popular vote.',\n",
       "  \"There's no evidence of illegal voting.\",\n",
       "  'https://www.nytimes.com/2017/01/23/us/politics/donald-trump-congress-democrats.html')]"
      ]
     },
     "execution_count": 34,
     "metadata": {},
     "output_type": "execute_result"
    }
   ],
   "source": [
    "# Spot Check\n",
    "records[0:3]"
   ]
  },
  {
   "cell_type": "markdown",
   "metadata": {},
   "source": [
    "# Applying a tabular data structure\n",
    "\n",
    "The last major step in this process is to apply a tabular data structure to our existing structure (which is a list of tuples). We're going to do this using the pandas library, an incredibly popular Python library for data analysis and manipulation. (If you don't have it, here are the installation instructions.)\n",
    "\n",
    "The primary data structure in pandas is the \"DataFrame\", which is suitable for tabular data with columns of different types, similar to an Excel spreadsheet or SQL table. We can convert our list of tuples into a DataFrame by passing it to the DataFrame constructor and specifying the desired column names:"
   ]
  },
  {
   "cell_type": "code",
   "execution_count": 35,
   "metadata": {},
   "outputs": [],
   "source": [
    "import pandas as pd\n",
    "df = pd.DataFrame(records, columns=['Date', 'Lie', 'Explanation', 'Url'])"
   ]
  },
  {
   "cell_type": "code",
   "execution_count": 36,
   "metadata": {},
   "outputs": [
    {
     "data": {
      "text/html": [
       "<div>\n",
       "<style scoped>\n",
       "    .dataframe tbody tr th:only-of-type {\n",
       "        vertical-align: middle;\n",
       "    }\n",
       "\n",
       "    .dataframe tbody tr th {\n",
       "        vertical-align: top;\n",
       "    }\n",
       "\n",
       "    .dataframe thead th {\n",
       "        text-align: right;\n",
       "    }\n",
       "</style>\n",
       "<table border=\"1\" class=\"dataframe\">\n",
       "  <thead>\n",
       "    <tr style=\"text-align: right;\">\n",
       "      <th></th>\n",
       "      <th>Date</th>\n",
       "      <th>Lie</th>\n",
       "      <th>Explanation</th>\n",
       "      <th>Url</th>\n",
       "    </tr>\n",
       "  </thead>\n",
       "  <tbody>\n",
       "    <tr>\n",
       "      <th>0</th>\n",
       "      <td>Jan. 21</td>\n",
       "      <td>I wasn't a fan of Iraq. I didn't want to go in...</td>\n",
       "      <td>He was for an invasion before he was against it.</td>\n",
       "      <td>https://www.buzzfeed.com/andrewkaczynski/in-20...</td>\n",
       "    </tr>\n",
       "    <tr>\n",
       "      <th>1</th>\n",
       "      <td>Jan. 21</td>\n",
       "      <td>A reporter for Time magazine — and I have been...</td>\n",
       "      <td>Trump was on the cover 11 times and Nixon appe...</td>\n",
       "      <td>http://nation.time.com/2013/11/06/10-things-yo...</td>\n",
       "    </tr>\n",
       "    <tr>\n",
       "      <th>2</th>\n",
       "      <td>Jan. 23</td>\n",
       "      <td>Between 3 million and 5 million illegal votes ...</td>\n",
       "      <td>There's no evidence of illegal voting.</td>\n",
       "      <td>https://www.nytimes.com/2017/01/23/us/politics...</td>\n",
       "    </tr>\n",
       "    <tr>\n",
       "      <th>3</th>\n",
       "      <td>Jan. 25</td>\n",
       "      <td>Now, the audience was the biggest ever. But th...</td>\n",
       "      <td>Official aerial photos show Obama's 2009 inaug...</td>\n",
       "      <td>https://www.nytimes.com/2017/01/21/us/politics...</td>\n",
       "    </tr>\n",
       "    <tr>\n",
       "      <th>4</th>\n",
       "      <td>Jan. 25</td>\n",
       "      <td>Take a look at the Pew reports (which show vot...</td>\n",
       "      <td>The report never mentioned voter fraud.</td>\n",
       "      <td>https://www.nytimes.com/2017/01/24/us/politics...</td>\n",
       "    </tr>\n",
       "  </tbody>\n",
       "</table>\n",
       "</div>"
      ],
      "text/plain": [
       "      Date                                                Lie  \\\n",
       "0  Jan. 21  I wasn't a fan of Iraq. I didn't want to go in...   \n",
       "1  Jan. 21  A reporter for Time magazine — and I have been...   \n",
       "2  Jan. 23  Between 3 million and 5 million illegal votes ...   \n",
       "3  Jan. 25  Now, the audience was the biggest ever. But th...   \n",
       "4  Jan. 25  Take a look at the Pew reports (which show vot...   \n",
       "\n",
       "                                         Explanation  \\\n",
       "0   He was for an invasion before he was against it.   \n",
       "1  Trump was on the cover 11 times and Nixon appe...   \n",
       "2             There's no evidence of illegal voting.   \n",
       "3  Official aerial photos show Obama's 2009 inaug...   \n",
       "4            The report never mentioned voter fraud.   \n",
       "\n",
       "                                                 Url  \n",
       "0  https://www.buzzfeed.com/andrewkaczynski/in-20...  \n",
       "1  http://nation.time.com/2013/11/06/10-things-yo...  \n",
       "2  https://www.nytimes.com/2017/01/23/us/politics...  \n",
       "3  https://www.nytimes.com/2017/01/21/us/politics...  \n",
       "4  https://www.nytimes.com/2017/01/24/us/politics...  "
      ]
     },
     "execution_count": 36,
     "metadata": {},
     "output_type": "execute_result"
    }
   ],
   "source": [
    "df.head()"
   ]
  },
  {
   "cell_type": "code",
   "execution_count": null,
   "metadata": {},
   "outputs": [],
   "source": []
  }
 ],
 "metadata": {
  "kernelspec": {
   "display_name": "Python 3 (ipykernel)",
   "language": "python",
   "name": "python3"
  },
  "language_info": {
   "codemirror_mode": {
    "name": "ipython",
    "version": 3
   },
   "file_extension": ".py",
   "mimetype": "text/x-python",
   "name": "python",
   "nbconvert_exporter": "python",
   "pygments_lexer": "ipython3",
   "version": "3.7.6"
  }
 },
 "nbformat": 4,
 "nbformat_minor": 5
}
